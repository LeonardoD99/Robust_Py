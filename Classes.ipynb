{
 "cells": [
  {
   "cell_type": "code",
   "execution_count": 111,
   "metadata": {},
   "outputs": [
    {
     "name": "stdout",
     "output_type": "stream",
     "text": [
      "Emp 1 - Corey shafer - Corey.shafer@company.com' )\n",
      "Employee('Corey','shafer','50000' )\n",
      "21\n"
     ]
    }
   ],
   "source": [
    "class Employee:\n",
    "\n",
    "    raise_amount = 0.04\n",
    "    num_of_emps = 0\n",
    "    # __init__() __repr__()and __str__() are calle d Duunder methods\n",
    "    def __init__(self, first, last, pay) -> None: \n",
    "        self.first = first\n",
    "        self.last = last\n",
    "        self.pay = pay\n",
    "        self.email = \"{}.{}@company.com\".format(first,last)\n",
    "        Employee.num_of_emps += 1                               #interesting way of counting the number of instances created\n",
    "        self.emp_Id = Employee.num_of_emps\n",
    "\n",
    "    # repr is meant to return an unambiguos representation o the object and it's mainly used for logging and debugging\n",
    "    def __repr__(self) -> str:\n",
    "        return \"Employee('{}','{}','{}' )\".format(self.first, self.last,self.pay)\n",
    "    # is a readable representation of the object, mainly for the end user\n",
    "    def __str__(self) -> str:\n",
    "        return  \"Emp {} - {} {} - {}' )\".format(self.emp_Id, self.first,self.last, self.email)\n",
    "\n",
    "    def full_name(self):\n",
    "        return \"{} {} number {}\".format(self.first, self.last, self.emp_Id)\n",
    "    \n",
    "    def __len__ (self):\n",
    "        return len(self.full_name())\n",
    "    \n",
    "    def apply_raise (self):\n",
    "        print(\"here {}\".format(1.00 + self.raise_amount))\n",
    "        self.pay = int(float(self.pay) * (float(1) + float(self.raise_amount)))\n",
    "    \n",
    "    @classmethod\n",
    "    def set_raise_amt(cls,amount):\n",
    "        cls.raise_amount  =amount\n",
    "    \n",
    "    @classmethod\n",
    "    def from_string(cls,str_emp):\n",
    "        first, last, pay = str_emp.split(\"-\") \n",
    "        return cls(first, last, pay)\n",
    "    \n",
    "\n",
    "str_emp_1 = \"John-Doe-70000\"\n",
    "str_emp_2 = \"Corey-shafer-50000\"\n",
    "str_emp_3 = \"Test-User-60000\"\n",
    "\n",
    "\n",
    "emp_1 = Employee(\"Corey\",\"shafer\",50000)\n",
    "emp_2 = Employee(\"Test\",\"User\",60000)\n",
    "emp_3 = Employee.from_string(str_emp_1)\n",
    "\n",
    "\n",
    "print(emp_1)\n",
    "print(repr(emp_1))\n",
    "print(len(emp_1))\n"
   ]
  },
  {
   "cell_type": "code",
   "execution_count": null,
   "metadata": {},
   "outputs": [],
   "source": [
    "print(emp_1.full_name())\n",
    "print(Employee.full_name(emp_2))\n",
    "print(emp_3.full_name())\n",
    "\n",
    "print(\"before raise {}\".format(emp_1.pay))\n",
    "emp_1.apply_raise()\n",
    "print(\"after raise {}\".format(emp_1.pay))\n",
    "\n",
    "emp_1.raise_amount = 0.05\n",
    "Employee.set_raise_amt(0.7)\n",
    "print(Employee.raise_amount)\n",
    "print(emp_1.raise_amount)\n",
    "print(emp_2.raise_amount)\n",
    "\n",
    "print(\"before raise {}\".format(emp_1.pay))\n",
    "emp_1.apply_raise()\n",
    "print(\"after raise {}\".format(emp_1.pay))"
   ]
  },
  {
   "cell_type": "code",
   "execution_count": 90,
   "metadata": {},
   "outputs": [
    {
     "name": "stdout",
     "output_type": "stream",
     "text": [
      "Test User number 4 programs in R\n",
      "here 1.7\n",
      "102000\n"
     ]
    }
   ],
   "source": [
    "class Developer (Employee):\n",
    "    def __init__(self, first, last, pay, prog_lang):\n",
    "        super().__init__(first,last,pay)\n",
    "        self.prog_lang = prog_lang\n",
    "    \n",
    "    def full_name(self):\n",
    "        return \"{} programs in {}\".format(super().full_name(),self.prog_lang)\n",
    "    \n",
    "    @classmethod\n",
    "    def from_string(cls,str_emp ):\n",
    "        first, last, pay, prog_lang = str_emp.split(\"-\") \n",
    "        return cls(first, last, pay, prog_lang)\n",
    "    \n",
    "    \n",
    "dev1 = Developer.from_string(\"Test-User-60000-R\")\n",
    "print(dev1.full_name())\n",
    "dev1.apply_raise()\n",
    "print(dev1.pay)"
   ]
  },
  {
   "cell_type": "code",
   "execution_count": 91,
   "metadata": {},
   "outputs": [],
   "source": [
    "class Manager(Employee):\n",
    "    def __init__(self, first, last, pay, employees = None):\n",
    "        super().__init__(first,last,pay)\n",
    "        if employees == None :\n",
    "            employees = []\n",
    "        else:\n",
    "            self.employees = employees\n",
    "    \n",
    "    def add_employe (self, emp):\n",
    "        if emp not in self.employees :\n",
    "            self.employees.append(emp)\n",
    "\n",
    "    def remove_employee (self, emp):\n",
    "        if emp in self.employees:\n",
    "            self.employees.remove(emp)\n",
    "    \n",
    "    def print_employee (self):\n",
    "        for emp in self.employees:\n",
    "            print (emp.full_name())\n",
    "\n",
    "\n",
    "man_1 = Manager(\"Test\",\"User\",60000,[emp_1,emp_2,emp_3, dev1])\n"
   ]
  },
  {
   "cell_type": "code",
   "execution_count": 92,
   "metadata": {},
   "outputs": [
    {
     "name": "stdout",
     "output_type": "stream",
     "text": [
      "Test User number 5\n",
      "Corey shafer number 1\n",
      "Test User number 2\n",
      "John Doe number 3\n",
      "Test User number 4 programs in R\n",
      "None\n",
      "Corey shafer number 1\n",
      "Test User number 2\n",
      "John Doe number 3\n",
      "None\n"
     ]
    }
   ],
   "source": [
    "print(man_1.full_name())\n",
    "print(man_1.print_employee())\n",
    "man_1.remove_employee(dev1)\n",
    "print(man_1.print_employee())\n"
   ]
  },
  {
   "cell_type": "code",
   "execution_count": 95,
   "metadata": {},
   "outputs": [
    {
     "name": "stdout",
     "output_type": "stream",
     "text": [
      "{'__module__': '__main__', 'raise_amount': 0.7, 'num_of_emps': 5, '__init__': <function Employee.__init__ at 0x10f956710>, 'full_name': <function Employee.full_name at 0x10f954dc0>, 'apply_raise': <function Employee.apply_raise at 0x10f954790>, 'set_raise_amt': <classmethod(<function Employee.set_raise_amt at 0x10f955360>)>, 'from_string': <classmethod(<function Employee.from_string at 0x10f956b00>)>, '__dict__': <attribute '__dict__' of 'Employee' objects>, '__weakref__': <attribute '__weakref__' of 'Employee' objects>, '__doc__': None}\n",
      "{'first': 'Corey', 'last': 'shafer', 'pay': 54600, 'email': 'Corey.shafer@company.com', 'emp_Id': 1, 'raise_amount': 0.05}\n",
      "True\n",
      "True\n",
      "False\n",
      "True\n",
      "True\n"
     ]
    }
   ],
   "source": [
    "print(Employee.__dict__)\n",
    "print(emp_1.__dict__)\n",
    "#print(help(Developer))\n",
    "print(isinstance(dev1,Employee))\n",
    "print(isinstance(man_1,Employee))\n",
    "print(isinstance(man_1,Developer))\n",
    "\n",
    "print(issubclass(Developer,Employee))\n",
    "print(issubclass(Manager,Employee))\n"
   ]
  },
  {
   "cell_type": "markdown",
   "metadata": {},
   "source": [
    "# using dunder methods "
   ]
  },
  {
   "cell_type": "code",
   "execution_count": 109,
   "metadata": {},
   "outputs": [
    {
     "name": "stdout",
     "output_type": "stream",
     "text": [
      "4\n",
      "ab\n",
      "2\n",
      "2\n"
     ]
    }
   ],
   "source": [
    "print(int.__add__(1,3))\n",
    "print(str.__add__('a','b'))\n",
    "print(float.__ceil__(1.5)) \n",
    "print(int.__abs__(-2))"
   ]
  }
 ],
 "metadata": {
  "kernelspec": {
   "display_name": "Python 3",
   "language": "python",
   "name": "python3"
  },
  "language_info": {
   "codemirror_mode": {
    "name": "ipython",
    "version": 3
   },
   "file_extension": ".py",
   "mimetype": "text/x-python",
   "name": "python",
   "nbconvert_exporter": "python",
   "pygments_lexer": "ipython3",
   "version": "3.10.4"
  }
 },
 "nbformat": 4,
 "nbformat_minor": 2
}
