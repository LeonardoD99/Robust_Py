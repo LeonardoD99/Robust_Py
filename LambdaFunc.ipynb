{
 "cells": [
  {
   "cell_type": "code",
   "execution_count": 1,
   "metadata": {},
   "outputs": [],
   "source": [
    "def square (num):\n",
    "    return num**2"
   ]
  },
  {
   "cell_type": "code",
   "execution_count": 5,
   "metadata": {},
   "outputs": [
    {
     "name": "stdout",
     "output_type": "stream",
     "text": [
      "[1, 4, 9, 16, 25]\n"
     ]
    }
   ],
   "source": [
    "my_nums = [1,2,3,4,5]\n",
    "my_squares = map(square,my_nums)\n",
    "print(list(my_squares))"
   ]
  },
  {
   "cell_type": "code",
   "execution_count": 9,
   "metadata": {},
   "outputs": [
    {
     "data": {
      "text/plain": [
       "[1, 3, 5]"
      ]
     },
     "execution_count": 9,
     "metadata": {},
     "output_type": "execute_result"
    }
   ],
   "source": [
    "def chehck_even(num):\n",
    "    return num % 2\n",
    "\n",
    "list(filter(chehck_even,my_nums))"
   ]
  },
  {
   "cell_type": "code",
   "execution_count": 12,
   "metadata": {},
   "outputs": [
    {
     "data": {
      "text/plain": [
       "[1, 4, 9, 16, 25]"
      ]
     },
     "execution_count": 12,
     "metadata": {},
     "output_type": "execute_result"
    }
   ],
   "source": [
    "lambda s: s[0]\n",
    "list(map(lambda n: n**2 , my_nums))"
   ]
  },
  {
   "cell_type": "code",
   "execution_count": 13,
   "metadata": {},
   "outputs": [
    {
     "data": {
      "text/plain": [
       "{'__name__': '__main__',\n",
       " '__doc__': 'Automatically created module for IPython interactive environment',\n",
       " '__package__': None,\n",
       " '__loader__': None,\n",
       " '__spec__': None,\n",
       " '__builtin__': <module 'builtins' (built-in)>,\n",
       " '__builtins__': <module 'builtins' (built-in)>,\n",
       " '_ih': ['',\n",
       "  'def square (num):\\n    return num**2',\n",
       "  'my_nums = [1,2,3,4,5]',\n",
       "  'my_nums = [1,2,3,4,5]\\nmap(square,my_nums)',\n",
       "  'my_nums = [1,2,3,4,5]\\nmy_squares = map(square,my_nums)\\nprint(my_squares)',\n",
       "  'my_nums = [1,2,3,4,5]\\nmy_squares = map(square,my_nums)\\nprint(list(my_squares))',\n",
       "  'def chehck_even(num):\\n    return num % 2',\n",
       "  'def chehck_even(num):\\n    return num % 2\\n\\nlist(map(my_nums))',\n",
       "  'def chehck_even(num):\\n    return num % 2\\n\\nlist(map(chehck_even,my_nums))',\n",
       "  'def chehck_even(num):\\n    return num % 2\\n\\nlist(filter(chehck_even,my_nums))',\n",
       "  'lambda s: s[0]\\nlist(filter(lambda n: n%2 , my_nums))',\n",
       "  'lambda s: s[0]\\nlist(filter(lambda n: n**2 , my_nums))',\n",
       "  'lambda s: s[0]\\nlist(map(lambda n: n**2 , my_nums))',\n",
       "  'globals()'],\n",
       " '_oh': {3: <map at 0x10b776380>,\n",
       "  8: [1, 0, 1, 0, 1],\n",
       "  9: [1, 3, 5],\n",
       "  10: [1, 3, 5],\n",
       "  11: [1, 2, 3, 4, 5],\n",
       "  12: [1, 4, 9, 16, 25]},\n",
       " '_dh': [PosixPath('/Users/leonardodicaterina/Desktop/Portfolio/homework-0/Robust_Py')],\n",
       " 'In': ['',\n",
       "  'def square (num):\\n    return num**2',\n",
       "  'my_nums = [1,2,3,4,5]',\n",
       "  'my_nums = [1,2,3,4,5]\\nmap(square,my_nums)',\n",
       "  'my_nums = [1,2,3,4,5]\\nmy_squares = map(square,my_nums)\\nprint(my_squares)',\n",
       "  'my_nums = [1,2,3,4,5]\\nmy_squares = map(square,my_nums)\\nprint(list(my_squares))',\n",
       "  'def chehck_even(num):\\n    return num % 2',\n",
       "  'def chehck_even(num):\\n    return num % 2\\n\\nlist(map(my_nums))',\n",
       "  'def chehck_even(num):\\n    return num % 2\\n\\nlist(map(chehck_even,my_nums))',\n",
       "  'def chehck_even(num):\\n    return num % 2\\n\\nlist(filter(chehck_even,my_nums))',\n",
       "  'lambda s: s[0]\\nlist(filter(lambda n: n%2 , my_nums))',\n",
       "  'lambda s: s[0]\\nlist(filter(lambda n: n**2 , my_nums))',\n",
       "  'lambda s: s[0]\\nlist(map(lambda n: n**2 , my_nums))',\n",
       "  'globals()'],\n",
       " 'Out': {3: <map at 0x10b776380>,\n",
       "  8: [1, 0, 1, 0, 1],\n",
       "  9: [1, 3, 5],\n",
       "  10: [1, 3, 5],\n",
       "  11: [1, 2, 3, 4, 5],\n",
       "  12: [1, 4, 9, 16, 25]},\n",
       " 'get_ipython': <bound method InteractiveShell.get_ipython of <ipykernel.zmqshell.ZMQInteractiveShell object at 0x10b6e84c0>>,\n",
       " 'exit': <IPython.core.autocall.ZMQExitAutocall at 0x10b6e8ca0>,\n",
       " 'quit': <IPython.core.autocall.ZMQExitAutocall at 0x10b6e8ca0>,\n",
       " '_': [1, 4, 9, 16, 25],\n",
       " '__': [1, 2, 3, 4, 5],\n",
       " '___': [1, 3, 5],\n",
       " '__vsc_ipynb_file__': '/Users/leonardodicaterina/Desktop/Portfolio/homework-0/Robust_Py/LambdaFunc.ipynb',\n",
       " '_i': 'lambda s: s[0]\\nlist(map(lambda n: n**2 , my_nums))',\n",
       " '_ii': 'lambda s: s[0]\\nlist(filter(lambda n: n**2 , my_nums))',\n",
       " '_iii': 'lambda s: s[0]\\nlist(filter(lambda n: n%2 , my_nums))',\n",
       " '_i1': 'def square (num):\\n    return num**2',\n",
       " 'square': <function __main__.square(num)>,\n",
       " '_i2': 'my_nums = [1,2,3,4,5]',\n",
       " 'my_nums': [1, 2, 3, 4, 5],\n",
       " '_i3': 'my_nums = [1,2,3,4,5]\\nmap(square,my_nums)',\n",
       " '_3': <map at 0x10b776380>,\n",
       " '_i4': 'my_nums = [1,2,3,4,5]\\nmy_squares = map(square,my_nums)\\nprint(my_squares)',\n",
       " 'my_squares': <map at 0x10b774550>,\n",
       " '_i5': 'my_nums = [1,2,3,4,5]\\nmy_squares = map(square,my_nums)\\nprint(list(my_squares))',\n",
       " '_i6': 'def chehck_even(num):\\n    return num % 2',\n",
       " 'chehck_even': <function __main__.chehck_even(num)>,\n",
       " '_i7': 'def chehck_even(num):\\n    return num % 2\\n\\nlist(map(my_nums))',\n",
       " '_i8': 'def chehck_even(num):\\n    return num % 2\\n\\nlist(map(chehck_even,my_nums))',\n",
       " '_8': [1, 0, 1, 0, 1],\n",
       " '_i9': 'def chehck_even(num):\\n    return num % 2\\n\\nlist(filter(chehck_even,my_nums))',\n",
       " '_9': [1, 3, 5],\n",
       " '_i10': 'lambda s: s[0]\\nlist(filter(lambda n: n%2 , my_nums))',\n",
       " '_10': [1, 3, 5],\n",
       " '_i11': 'lambda s: s[0]\\nlist(filter(lambda n: n**2 , my_nums))',\n",
       " '_11': [1, 2, 3, 4, 5],\n",
       " '_i12': 'lambda s: s[0]\\nlist(map(lambda n: n**2 , my_nums))',\n",
       " '_12': [1, 4, 9, 16, 25],\n",
       " '_i13': 'globals()'}"
      ]
     },
     "execution_count": 13,
     "metadata": {},
     "output_type": "execute_result"
    }
   ],
   "source": [
    "globals()"
   ]
  }
 ],
 "metadata": {
  "kernelspec": {
   "display_name": "Python 3",
   "language": "python",
   "name": "python3"
  },
  "language_info": {
   "codemirror_mode": {
    "name": "ipython",
    "version": 3
   },
   "file_extension": ".py",
   "mimetype": "text/x-python",
   "name": "python",
   "nbconvert_exporter": "python",
   "pygments_lexer": "ipython3",
   "version": "3.10.4"
  }
 },
 "nbformat": 4,
 "nbformat_minor": 2
}
